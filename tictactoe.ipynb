{
 "cells": [
  {
   "cell_type": "code",
   "execution_count": 10,
   "id": "d488a0e9-272e-465c-9c99-75cd9215b7bb",
   "metadata": {},
   "outputs": [
    {
     "name": "stdout",
     "output_type": "stream",
     "text": [
      "Welcome to Tic Tac Toe!\n",
      "|   |   |   |\n",
      "|   |   |   |\n",
      "|   |   |   |\n"
     ]
    },
    {
     "name": "stdin",
     "output_type": "stream",
     "text": [
      "Enter your move (1-9):  1\n"
     ]
    },
    {
     "name": "stdout",
     "output_type": "stream",
     "text": [
      "| X |   |   |\n",
      "|   |   |   |\n",
      "|   |   |   |\n",
      "AI is making a move...\n",
      "| X |   |   |\n",
      "|   | O |   |\n",
      "|   |   |   |\n"
     ]
    },
    {
     "name": "stdin",
     "output_type": "stream",
     "text": [
      "Enter your move (1-9):  7\n"
     ]
    },
    {
     "name": "stdout",
     "output_type": "stream",
     "text": [
      "| X |   |   |\n",
      "|   | O |   |\n",
      "| X |   |   |\n",
      "AI is making a move...\n",
      "| X |   |   |\n",
      "| O | O |   |\n",
      "| X |   |   |\n"
     ]
    },
    {
     "name": "stdin",
     "output_type": "stream",
     "text": [
      "Enter your move (1-9):  3\n"
     ]
    },
    {
     "name": "stdout",
     "output_type": "stream",
     "text": [
      "| X |   | X |\n",
      "| O | O |   |\n",
      "| X |   |   |\n",
      "AI is making a move...\n",
      "| X | O | X |\n",
      "| O | O |   |\n",
      "| X |   |   |\n"
     ]
    },
    {
     "name": "stdin",
     "output_type": "stream",
     "text": [
      "Enter your move (1-9):  9\n"
     ]
    },
    {
     "name": "stdout",
     "output_type": "stream",
     "text": [
      "| X | O | X |\n",
      "| O | O |   |\n",
      "| X |   | X |\n",
      "AI is making a move...\n",
      "| X | O | X |\n",
      "| O | O | O |\n",
      "| X |   | X |\n",
      "AI wins!\n"
     ]
    }
   ],
   "source": [
    "### import math\n",
    "\n",
    "# Board setup\n",
    "board = [' ' for _ in range(9)]\n",
    "\n",
    "# Function to print the board\n",
    "def print_board():\n",
    "    for row in [board[i * 3:(i + 1) * 3] for i in range(3)]:\n",
    "        print('| ' + ' | '.join(row) + ' |')\n",
    "\n",
    "# Check for winner\n",
    "def is_winner(brd, player):\n",
    "    win_conditions = [\n",
    "        [0, 1, 2], [3, 4, 5], [6, 7, 8],  # rows\n",
    "        [0, 3, 6], [1, 4, 7], [2, 5, 8],  # columns\n",
    "        [0, 4, 8], [2, 4, 6]  # diagonals\n",
    "    ]\n",
    "    for condition in win_conditions:\n",
    "        if all(brd[i] == player for i in condition):\n",
    "            return True\n",
    "    return False\n",
    "\n",
    "# Check if board is full\n",
    "def is_full(brd):\n",
    "    return ' ' not in brd\n",
    "\n",
    "# Get available moves\n",
    "def get_available_moves(brd):\n",
    "    return [i for i in range(9) if brd[i] == ' ']\n",
    "\n",
    "# Minimax Algorithm\n",
    "def minimax(brd, depth, is_maximizing):\n",
    "    if is_winner(brd, 'O'):\n",
    "        return 1\n",
    "    elif is_winner(brd, 'X'):\n",
    "        return -1\n",
    "    elif is_full(brd):\n",
    "        return 0\n",
    "\n",
    "    if is_maximizing:\n",
    "        best_score = -math.inf\n",
    "        for move in get_available_moves(brd):\n",
    "            brd[move] = 'O'\n",
    "            score = minimax(brd, depth + 1, False)\n",
    "            brd[move] = ' '\n",
    "            best_score = max(score, best_score)\n",
    "        return best_score\n",
    "    else:\n",
    "        best_score = math.inf\n",
    "        for move in get_available_moves(brd):\n",
    "            brd[move] = 'X'\n",
    "            score = minimax(brd, depth + 1, True)\n",
    "            brd[move] = ' '\n",
    "            best_score = min(score, best_score)\n",
    "        return best_score\n",
    "\n",
    "# AI makes move\n",
    "def ai_move():\n",
    "    best_score = -math.inf\n",
    "    best_move = None\n",
    "    for move in get_available_moves(board):\n",
    "        board[move] = 'O'\n",
    "        score = minimax(board, 0, False)\n",
    "        board[move] = ' '\n",
    "        if score > best_score:\n",
    "            best_score = score\n",
    "            best_move = move\n",
    "    board[best_move] = 'O'\n",
    "\n",
    "# Play game\n",
    "def play_game():\n",
    "    print(\"Welcome to Tic Tac Toe!\")\n",
    "    print_board()\n",
    "\n",
    "    while True:\n",
    "        # Human move\n",
    "        try:\n",
    "            move = int(input(\"Enter your move (1-9): \")) - 1\n",
    "        except ValueError:\n",
    "            print(\"Invalid input.\")\n",
    "            continue\n",
    "\n",
    "        if move < 0 or move >= 9 or board[move] != ' ':\n",
    "            print(\"Invalid move, try again.\")\n",
    "            continue\n",
    "\n",
    "        board[move] = 'X'\n",
    "        print_board()\n",
    "\n",
    "        if is_winner(board, 'X'):\n",
    "            print(\"You win!\")\n",
    "            break\n",
    "        elif is_full(board):\n",
    "            print(\"It's a tie!\")\n",
    "            break\n",
    "\n",
    "        # AI move\n",
    "        print(\"AI is making a move...\")\n",
    "        ai_move()\n",
    "        print_board()\n",
    "\n",
    "        if is_winner(board, 'O'):\n",
    "            print(\"AI wins!\")\n",
    "            break\n",
    "        elif is_full(board):\n",
    "            print(\"It's a tie!\")\n",
    "            break\n",
    "\n",
    "# Run the game\n",
    "if __name__ == \"__main__\":\n",
    "    play_game()\n"
   ]
  },
  {
   "cell_type": "code",
   "execution_count": null,
   "id": "7431164e-b39e-497e-8620-84ec0734f378",
   "metadata": {},
   "outputs": [],
   "source": [
    "\n"
   ]
  },
  {
   "cell_type": "code",
   "execution_count": null,
   "id": "babf4498-e521-4233-a32c-e274dd6d8aff",
   "metadata": {},
   "outputs": [],
   "source": []
  }
 ],
 "metadata": {
  "kernelspec": {
   "display_name": "Python [conda env:base] *",
   "language": "python",
   "name": "conda-base-py"
  },
  "language_info": {
   "codemirror_mode": {
    "name": "ipython",
    "version": 3
   },
   "file_extension": ".py",
   "mimetype": "text/x-python",
   "name": "python",
   "nbconvert_exporter": "python",
   "pygments_lexer": "ipython3",
   "version": "3.12.7"
  }
 },
 "nbformat": 4,
 "nbformat_minor": 5
}
