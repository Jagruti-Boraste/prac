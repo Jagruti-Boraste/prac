{
 "cells": [
  {
   "cell_type": "code",
   "execution_count": 3,
   "id": "9d76271f-1eb6-47e0-8dcf-48376be01e32",
   "metadata": {},
   "outputs": [
    {
     "name": "stdout",
     "output_type": "stream",
     "text": [
      "Path -> 1 -> 4 -> 2 -> 3 -> 1 : Cost = 95\n",
      "Path -> 2 -> 1 -> 4 -> 3 -> 2 : Cost = 115\n",
      "Path -> 3 -> 1 -> 4 -> 2 -> 3 : Cost = 95\n",
      "Path -> 4 -> 1 -> 3 -> 2 -> 4 : Cost = 95\n",
      "Optimal Cost: 95\n"
     ]
    }
   ],
   "source": [
    "import copy\n",
    "\n",
    "inf = float('inf')\n",
    "\n",
    "class TSP_AI:\n",
    "    # Travelling Salesman Problem Using Nearest Neighbor\n",
    "    def __init__(self, city_matrix=None, source=0):\n",
    "        self.city_matrix = [[0] * 4 for _ in range(4)] if city_matrix is None else city_matrix\n",
    "        self.n: int = len(self.city_matrix)\n",
    "        self.source: int = source\n",
    "\n",
    "    def Input(self):\n",
    "        self.n = int(input('Enter city count: '))\n",
    "        # Get the distances between cities\n",
    "        self.city_matrix = []\n",
    "        for i in range(self.n):\n",
    "            self.city_matrix.append([\n",
    "                inf if i == j else int(input(f'Cost to travel from city {i+1} to {j+1}: '))\n",
    "                for j in range(self.n)\n",
    "            ])\n",
    "        # Get the source city\n",
    "        self.source = int(input('Source: ')) % self.n\n",
    "\n",
    "    # Solve the TSP problem\n",
    "    def solve(self):\n",
    "        minCost = inf\n",
    "        for i in range(self.n):\n",
    "            print(\"Path\", end='')\n",
    "            # Calling solver for each as source city\n",
    "            cost = self._solve(copy.deepcopy(self.city_matrix), i, i)\n",
    "            print(f\" -> {i+1} : Cost = {cost}\")\n",
    "            # If this cost is optimal, save it\n",
    "            if cost and cost < minCost:\n",
    "                minCost = cost\n",
    "        return minCost\n",
    "\n",
    "    def _solve(self, city_matrix, currCity=0, source=0):\n",
    "        if self.n < 2:\n",
    "            return 0\n",
    "        print(f\" -> {currCity+1}\", end='')\n",
    "\n",
    "        # Set all values in the currCity column as infinity\n",
    "        # (once visited, shouldn't be visited anymore)\n",
    "        for i in range(self.n):\n",
    "            city_matrix[i][currCity] = inf\n",
    "\n",
    "        currMin, currMinPos = inf, 0\n",
    "        for j in range(self.n):\n",
    "            # Get the nearest city to the current city\n",
    "            if currMin > city_matrix[currCity][j]:\n",
    "                currMin, currMinPos = city_matrix[currCity][j], j\n",
    "\n",
    "        # If currMin is infinity (i.e., all cities have been visited),\n",
    "        # return cost of moving from this last city to start city to complete the path-loop\n",
    "        if currMin == inf:\n",
    "            return self.city_matrix[currCity][source]\n",
    "\n",
    "        # Set distance from currCity to next city and vice versa to infinity\n",
    "        city_matrix[currCity][currMinPos] = city_matrix[currMinPos][currCity] = inf\n",
    "\n",
    "        # Calling the next recursion for the selected city\n",
    "        return currMin + self._solve(city_matrix, currMinPos, source)\n",
    "\n",
    "\n",
    "if __name__ == '__main__':\n",
    "    city_matrix = [\n",
    "        [inf, 20, 15, 10],\n",
    "        [20, inf, 45, 25],\n",
    "        [15, 45, inf, 40],\n",
    "        [10, 25, 40, inf]\n",
    "    ]\n",
    "    source_city = 0\n",
    "    tsp = TSP_AI(city_matrix, source_city)\n",
    "    print(f\"Optimal Cost: {tsp.solve()}\")\n"
   ]
  },
  {
   "cell_type": "code",
   "execution_count": null,
   "id": "e577146b-0ba8-4488-a640-1d8da81d4aa8",
   "metadata": {},
   "outputs": [],
   "source": []
  }
 ],
 "metadata": {
  "kernelspec": {
   "display_name": "Python [conda env:base] *",
   "language": "python",
   "name": "conda-base-py"
  },
  "language_info": {
   "codemirror_mode": {
    "name": "ipython",
    "version": 3
   },
   "file_extension": ".py",
   "mimetype": "text/x-python",
   "name": "python",
   "nbconvert_exporter": "python",
   "pygments_lexer": "ipython3",
   "version": "3.12.7"
  }
 },
 "nbformat": 4,
 "nbformat_minor": 5
}
