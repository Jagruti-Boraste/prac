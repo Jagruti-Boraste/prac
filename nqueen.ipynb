{
 "cells": [
  {
   "cell_type": "code",
   "execution_count": 1,
   "id": "ceeea010-a132-4909-b895-0a31e2710640",
   "metadata": {},
   "outputs": [
    {
     "name": "stdout",
     "output_type": "stream",
     "text": [
      "[– Q – –]\n",
      "[– – – Q]\n",
      "[Q – – –]\n",
      "[– – Q –]\n",
      "\n",
      "[– – Q –]\n",
      "[Q – – –]\n",
      "[– – – Q]\n",
      "[– Q – –]\n",
      "\n"
     ]
    }
   ],
   "source": [
    "# Function to check if two queens threaten each other or not\n",
    "def isSafe(mat, r, c):\n",
    "    # Return false if two queens share the same column\n",
    "    for i in range(r):\n",
    "        if mat[i][c] == 'Q':\n",
    "            return False\n",
    "\n",
    "    # Return false if two queens share the same `\\` diagonal\n",
    "    (i, j) = (r, c)\n",
    "    while i >= 0 and j >= 0:\n",
    "        if mat[i][j] == 'Q':\n",
    "            return False\n",
    "        i = i - 1\n",
    "        j = j - 1\n",
    "\n",
    "    # Return false if two queens share the same `/` diagonal\n",
    "    (i, j) = (r, c)\n",
    "    while i >= 0 and j < len(mat):\n",
    "        if mat[i][j] == 'Q':\n",
    "            return False\n",
    "        i = i - 1\n",
    "        j = j + 1\n",
    "\n",
    "    return True\n",
    "\n",
    "\n",
    "# Function to print the solution\n",
    "def printSolution(mat):\n",
    "    for r in mat:\n",
    "        print(str(r).replace(',', '').replace('\\'', ''))\n",
    "    print()\n",
    "\n",
    "\n",
    "# Function to solve the N-Queens problem using backtracking\n",
    "def nQueen(mat, r):\n",
    "    # If `N` queens are placed successfully, print the solution\n",
    "    if r == len(mat):\n",
    "        printSolution(mat)\n",
    "        return\n",
    "\n",
    "    # Place queen at every square in the current row `r`\n",
    "    # and recur for each valid movement\n",
    "    for i in range(len(mat)):\n",
    "        # If no two queens threaten each other\n",
    "        if isSafe(mat, r, i):\n",
    "            # Place queen on the current square\n",
    "            mat[r][i] = 'Q'\n",
    "\n",
    "            # Recur for the next row\n",
    "            nQueen(mat, r + 1)\n",
    "\n",
    "            # Backtrack and remove the queen from the current square\n",
    "            mat[r][i] = '–'\n",
    "\n",
    "\n",
    "if __name__ == '__main__':\n",
    "    # `N × N` chessboard\n",
    "    N = 4\n",
    "\n",
    "    # `mat[][]` keeps track of the position of queens in\n",
    "    # the current configuration\n",
    "    mat = [['–' for x in range(N)] for y in range(N)]\n",
    "\n",
    "    # Solve the N-Queens problem\n",
    "    nQueen(mat, 0)\n"
   ]
  },
  {
   "cell_type": "code",
   "execution_count": null,
   "id": "7acf38be-51cb-49f6-9174-1e2b7fc063e1",
   "metadata": {},
   "outputs": [],
   "source": []
  }
 ],
 "metadata": {
  "kernelspec": {
   "display_name": "Python [conda env:base] *",
   "language": "python",
   "name": "conda-base-py"
  },
  "language_info": {
   "codemirror_mode": {
    "name": "ipython",
    "version": 3
   },
   "file_extension": ".py",
   "mimetype": "text/x-python",
   "name": "python",
   "nbconvert_exporter": "python",
   "pygments_lexer": "ipython3",
   "version": "3.12.7"
  }
 },
 "nbformat": 4,
 "nbformat_minor": 5
}
