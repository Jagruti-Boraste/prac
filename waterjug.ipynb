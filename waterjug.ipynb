{
 "cells": [
  {
   "cell_type": "code",
   "execution_count": 41,
   "id": "bf512914-fc89-4e74-8a6e-fba5fab7e2cd",
   "metadata": {},
   "outputs": [
    {
     "name": "stdout",
     "output_type": "stream",
     "text": [
      "JUG1\tJUG2\n",
      "0\t0\n",
      "5\t0\n",
      "0\t5\n",
      "5\t5\n",
      "3\t7\n"
     ]
    }
   ],
   "source": [
    "def pour(jug1, jug2):\n",
    "    max1, max2, fill = 5, 7, 3  # Maximum capacity of jug1, jug2, and the target capacity\n",
    "    print(\"%d\\t%d\" % (jug1, jug2))\n",
    "\n",
    "    # Base case: If one of the jugs reaches the target capacity\n",
    "    if jug2 == fill or jug1 == fill:\n",
    "        return\n",
    "\n",
    "    # If jug2 is full, empty it\n",
    "    if jug2 == max2:\n",
    "        pour(0, jug1)\n",
    "\n",
    "    # If jug1 is not empty and jug2 is empty, pour from jug1 to jug2\n",
    "    elif jug1 != 0 and jug2 == 0:\n",
    "        pour(0, jug1)\n",
    "\n",
    "    # If jug1 has the target amount, pour it to jug2\n",
    "    elif jug1 == fill:\n",
    "        pour(jug1, 0)\n",
    "\n",
    "    # If jug1 is not full, fill jug1\n",
    "    elif jug1 < max1:\n",
    "        pour(max1, jug2)\n",
    "\n",
    "    # If jug1 can completely pour into jug2 without exceeding its capacity\n",
    "    elif jug1 <= (max2 - jug2):\n",
    "        pour(0, jug1 + jug2)\n",
    "\n",
    "    # If jug1 cannot fully pour into jug2, pour as much as possible\n",
    "    else:\n",
    "        pour(jug1 - (max2 - jug2), max2)\n",
    "\n",
    "\n",
    "if __name__ == \"__main__\":\n",
    "    print(\"JUG1\\tJUG2\")\n",
    "    pour(0, 0)\n"
   ]
  },
  {
   "cell_type": "code",
   "execution_count": 39,
   "id": "5ae323f4-8dac-4cf7-a1a6-22631392dd8f",
   "metadata": {},
   "outputs": [
    {
     "name": "stdin",
     "output_type": "stream",
     "text": [
      "Enter capacity of Jug 1:  5\n",
      "Enter capacity of Jug 2:  7\n",
      "Enter target measurement:  3\n"
     ]
    },
    {
     "name": "stdout",
     "output_type": "stream",
     "text": [
      "JUG1\tJUG2\n",
      "0\t0\n",
      "5\t0\n",
      "0\t5\n",
      "5\t5\n",
      "3\t7\n"
     ]
    }
   ],
   "source": [
    "def pour(jug1, jug2, max1, max2, fill):\n",
    "    print(\"%d\\t%d\" % (jug1, jug2))\n",
    "\n",
    "    # Base case: If one of the jugs reaches the target capacity\n",
    "    if jug2 == fill or jug1 == fill:\n",
    "        return\n",
    "\n",
    "    # If jug2 is full, empty it\n",
    "    if jug2 == max2:\n",
    "        pour(jug1, 0, max1, max2, fill)\n",
    "\n",
    "    # If jug1 is not empty and jug2 is empty, pour from jug1 to jug2\n",
    "    elif jug1 != 0 and jug2 == 0:\n",
    "        pour(0, jug1, max1, max2, fill)\n",
    "\n",
    "    # If jug1 has the target amount, pour it to jug2\n",
    "    elif jug1 == fill:\n",
    "        pour(jug1, 0, max1, max2, fill)\n",
    "\n",
    "    # If jug1 is not full, fill jug1\n",
    "    elif jug1 < max1:\n",
    "        pour(max1, jug2, max1, max2, fill)\n",
    "\n",
    "    # If jug1 can completely pour into jug2 without exceeding its capacity\n",
    "    elif jug1 <= (max2 - jug2):\n",
    "        pour(0, jug1 + jug2, max1, max2, fill)\n",
    "\n",
    "    # If jug1 cannot fully pour into jug2, pour as much as possible\n",
    "    else:\n",
    "        pour(jug1 - (max2 - jug2), max2, max1, max2, fill)\n",
    "\n",
    "\n",
    "if __name__ == \"__main__\":\n",
    "    max1 = int(input(\"Enter capacity of Jug 1: \"))\n",
    "    max2 = int(input(\"Enter capacity of Jug 2: \"))\n",
    "    fill = int(input(\"Enter target measurement: \"))\n",
    "    \n",
    "    print(\"JUG1\\tJUG2\")\n",
    "    pour(0, 0, max1, max2, fill)"
   ]
  },
  {
   "cell_type": "code",
   "execution_count": null,
   "id": "8cb44934-2591-4156-8b0b-9c677cb000be",
   "metadata": {},
   "outputs": [],
   "source": []
  }
 ],
 "metadata": {
  "kernelspec": {
   "display_name": "Python [conda env:base] *",
   "language": "python",
   "name": "conda-base-py"
  },
  "language_info": {
   "codemirror_mode": {
    "name": "ipython",
    "version": 3
   },
   "file_extension": ".py",
   "mimetype": "text/x-python",
   "name": "python",
   "nbconvert_exporter": "python",
   "pygments_lexer": "ipython3",
   "version": "3.12.7"
  }
 },
 "nbformat": 4,
 "nbformat_minor": 5
}
